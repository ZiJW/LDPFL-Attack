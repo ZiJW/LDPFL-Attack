{
 "cells": [
  {
   "cell_type": "code",
   "execution_count": 18,
   "metadata": {},
   "outputs": [
    {
     "name": "stdout",
     "output_type": "stream",
     "text": [
      "σ=0.0005: ε=52565.2177\n",
      "σ=0.005: ε=5256.5218\n",
      "σ=0.05: ε=525.6522\n",
      "σ=0.5: ε=52.5652\n",
      "σ=1.0: ε=26.2826\n",
      "σ=2.0: ε=13.1413\n",
      "σ=3.0: ε=8.7609\n",
      "σ=4.0: ε=6.5707\n",
      "σ=5.0: ε=5.2565\n",
      "σ=6.0: ε=4.3804\n",
      "σ=7.0: ε=3.7547\n",
      "σ=8.0: ε=3.2853\n",
      "σ=10.0: ε=2.6283\n",
      "σ=12.0: ε=2.1902\n",
      "σ=14.0: ε=1.8773\n",
      "σ=16.0: ε=1.6427\n",
      "σ=24.0: ε=1.0951\n",
      "σ=48.0: ε=0.5476\n",
      "σ=64.0: ε=0.4107\n"
     ]
    }
   ],
   "source": [
    "import numpy as np\n",
    "\n",
    "# 参数\n",
    "q = 1  # FL 训练每个客户端都使用所有数据\n",
    "T = 60 # 训练轮数\n",
    "delta = 1e-5  # 隐私失败概率\n",
    "\n",
    "# 计算不同 σ 的 ε\n",
    "for sigma in [0.0005, 0.005, 0.05, 0.5, 1.0, 2.0, 3.0, 4.0, 5.0, 6.0, 7.0, 8.0, 10.0, 12.0, 14.0, 16.0, 24.0, 48.0, 64.0]:\n",
    "    epsilon = (q * np.sqrt(T * np.log(1/delta))) / sigma\n",
    "    print(f\"σ={sigma}: ε={epsilon:.4f}\")"
   ]
  },
  {
   "cell_type": "code",
   "execution_count": 1,
   "metadata": {},
   "outputs": [],
   "source": [
    "import torch\n",
    "from geom_median.torch import compute_geometric_median   # PyTorch API\n",
    "# from geom_median.numpy import compute_geometric_median  # NumPy API\n",
    "device = \"cuda:0\"\n",
    "n = 50  # Number of vectors\n",
    "d = 1867466  # dimensionality of each vector\n",
    "points = [torch.rand(d).to(device) for _ in range(n)]   # list of n tensors of shape (d,)\n",
    "# The shape of each tensor is the same and can be arbitrary (not necessarily 1-dimensional)\n",
    "#weights = torch.rand(n)  # non-negative weights of shape (n,)\n",
    "out = compute_geometric_median(points)\n",
    "# Access the median via `out.median`, which has the same shape as the points, i.e., (d,)"
   ]
  },
  {
   "cell_type": "code",
   "execution_count": 3,
   "metadata": {},
   "outputs": [
    {
     "name": "stdout",
     "output_type": "stream",
     "text": [
      "tensor([0.5554, 0.4501, 0.5184,  ..., 0.5206, 0.4426, 0.5012], device='cuda:0')\n"
     ]
    }
   ],
   "source": [
    "print(out.median)"
   ]
  },
  {
   "cell_type": "code",
   "execution_count": 15,
   "metadata": {},
   "outputs": [
    {
     "data": {
      "text/plain": [
       "(12000, 1, 28, 28)"
      ]
     },
     "execution_count": 15,
     "metadata": {},
     "output_type": "execute_result"
    }
   ],
   "source": [
    "import numpy as np\n",
    "x1 = np.load(\"./dataset/MNIST/iid_5/train_1_samples.npy\")\n",
    "x1.shape\n"
   ]
  }
 ],
 "metadata": {
  "kernelspec": {
   "display_name": "privimage",
   "language": "python",
   "name": "python3"
  },
  "language_info": {
   "codemirror_mode": {
    "name": "ipython",
    "version": 3
   },
   "file_extension": ".py",
   "mimetype": "text/x-python",
   "name": "python",
   "nbconvert_exporter": "python",
   "pygments_lexer": "ipython3",
   "version": "3.10.15"
  }
 },
 "nbformat": 4,
 "nbformat_minor": 2
}
