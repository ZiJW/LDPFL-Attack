{
 "cells": [
  {
   "cell_type": "code",
   "execution_count": 4,
   "metadata": {},
   "outputs": [
    {
     "name": "stdout",
     "output_type": "stream",
     "text": [
      "torch.float64\n",
      "tensor([nan, nan, nan, nan, nan, nan, nan, nan, nan, nan], dtype=torch.float64)\n"
     ]
    }
   ],
   "source": [
    "import pickle\n",
    "import numpy as np\n",
    "from torch.utils.data import DataLoader\n",
    "filepath = \"/home/wzj/FLattack/FedField/src/dataset/adult/iid_5/test.pkl\"\n",
    "F =  open(filepath, \"rb\")\n",
    "dataset = pickle.load(F)\n",
    "loader = DataLoader(dataset, batch_size=10, shuffle=True)\n",
    "for data, target in loader:\n",
    "    print(target.dtype)\n",
    "    print(target)\n",
    "    break"
   ]
  },
  {
   "cell_type": "code",
   "execution_count": 3,
   "metadata": {},
   "outputs": [
    {
     "data": {
      "text/plain": [
       "dtype('int64')"
      ]
     },
     "execution_count": 3,
     "metadata": {},
     "output_type": "execute_result"
    }
   ],
   "source": [
    "label = np.load(\"/home/wzj/FLattack/FedField/src/dataset/adult/iid_5/train_1_labels.npy\")\n",
    "label.dtype"
   ]
  }
 ],
 "metadata": {
  "kernelspec": {
   "display_name": "privimage",
   "language": "python",
   "name": "python3"
  },
  "language_info": {
   "codemirror_mode": {
    "name": "ipython",
    "version": 3
   },
   "file_extension": ".py",
   "mimetype": "text/x-python",
   "name": "python",
   "nbconvert_exporter": "python",
   "pygments_lexer": "ipython3",
   "version": "3.10.15"
  }
 },
 "nbformat": 4,
 "nbformat_minor": 2
}
